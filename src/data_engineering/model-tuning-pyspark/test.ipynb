{
 "cells": [
  {
   "cell_type": "code",
   "execution_count": 2,
   "metadata": {},
   "outputs": [],
   "source": [
    "from pyspark import SparkContext\n",
    "from pyspark.sql import SparkSession"
   ]
  },
  {
   "cell_type": "code",
   "execution_count": 3,
   "metadata": {},
   "outputs": [
    {
     "name": "stderr",
     "output_type": "stream",
     "text": [
      "22/05/07 03:17:14 WARN Utils: Your hostname, Junuui-MacBookAir.local resolves to a loopback address: 127.0.0.1; using 172.30.1.51 instead (on interface en0)\n",
      "22/05/07 03:17:14 WARN Utils: Set SPARK_LOCAL_IP if you need to bind to another address\n",
      "WARNING: An illegal reflective access operation has occurred\n",
      "WARNING: Illegal reflective access by org.apache.spark.unsafe.Platform (file:/opt/homebrew/Caskroom/miniforge/base/envs/flitto/lib/python3.10/site-packages/pyspark/jars/spark-unsafe_2.12-3.2.1.jar) to constructor java.nio.DirectByteBuffer(long,int)\n",
      "WARNING: Please consider reporting this to the maintainers of org.apache.spark.unsafe.Platform\n",
      "WARNING: Use --illegal-access=warn to enable warnings of further illegal reflective access operations\n",
      "WARNING: All illegal access operations will be denied in a future release\n",
      "Using Spark's default log4j profile: org/apache/spark/log4j-defaults.properties\n",
      "Setting default log level to \"WARN\".\n",
      "To adjust logging level use sc.setLogLevel(newLevel). For SparkR, use setLogLevel(newLevel).\n",
      "22/05/07 03:17:15 WARN NativeCodeLoader: Unable to load native-hadoop library for your platform... using builtin-java classes where applicable\n"
     ]
    }
   ],
   "source": [
    "sc = SparkContext().getOrCreate()\n",
    "spark = SparkSession(sc)"
   ]
  },
  {
   "cell_type": "code",
   "execution_count": 190,
   "metadata": {},
   "outputs": [
    {
     "name": "stdout",
     "output_type": "stream",
     "text": [
      "(100, 6)\n"
     ]
    },
    {
     "data": {
      "text/html": [
       "<div>\n",
       "<style scoped>\n",
       "    .dataframe tbody tr th:only-of-type {\n",
       "        vertical-align: middle;\n",
       "    }\n",
       "\n",
       "    .dataframe tbody tr th {\n",
       "        vertical-align: top;\n",
       "    }\n",
       "\n",
       "    .dataframe thead th {\n",
       "        text-align: right;\n",
       "    }\n",
       "</style>\n",
       "<table border=\"1\" class=\"dataframe\">\n",
       "  <thead>\n",
       "    <tr style=\"text-align: right;\">\n",
       "      <th></th>\n",
       "      <th>0</th>\n",
       "      <th>1</th>\n",
       "      <th>2</th>\n",
       "      <th>3</th>\n",
       "      <th>4</th>\n",
       "      <th>label</th>\n",
       "    </tr>\n",
       "  </thead>\n",
       "  <tbody>\n",
       "    <tr>\n",
       "      <th>0</th>\n",
       "      <td>-0.516603</td>\n",
       "      <td>0.146493</td>\n",
       "      <td>0.752866</td>\n",
       "      <td>1.603592</td>\n",
       "      <td>0.743463</td>\n",
       "      <td>1</td>\n",
       "    </tr>\n",
       "    <tr>\n",
       "      <th>1</th>\n",
       "      <td>-0.319406</td>\n",
       "      <td>-1.106124</td>\n",
       "      <td>2.780528</td>\n",
       "      <td>2.395492</td>\n",
       "      <td>-0.850553</td>\n",
       "      <td>1</td>\n",
       "    </tr>\n",
       "    <tr>\n",
       "      <th>2</th>\n",
       "      <td>-0.710865</td>\n",
       "      <td>-0.109481</td>\n",
       "      <td>1.966707</td>\n",
       "      <td>1.732722</td>\n",
       "      <td>-0.219927</td>\n",
       "      <td>1</td>\n",
       "    </tr>\n",
       "    <tr>\n",
       "      <th>3</th>\n",
       "      <td>0.652532</td>\n",
       "      <td>-0.797940</td>\n",
       "      <td>0.177784</td>\n",
       "      <td>-1.161287</td>\n",
       "      <td>-1.453970</td>\n",
       "      <td>0</td>\n",
       "    </tr>\n",
       "    <tr>\n",
       "      <th>4</th>\n",
       "      <td>0.760074</td>\n",
       "      <td>-0.517866</td>\n",
       "      <td>-0.480863</td>\n",
       "      <td>-2.111619</td>\n",
       "      <td>-1.539946</td>\n",
       "      <td>0</td>\n",
       "    </tr>\n",
       "  </tbody>\n",
       "</table>\n",
       "</div>"
      ],
      "text/plain": [
       "          0         1         2         3         4  label\n",
       "0 -0.516603  0.146493  0.752866  1.603592  0.743463      1\n",
       "1 -0.319406 -1.106124  2.780528  2.395492 -0.850553      1\n",
       "2 -0.710865 -0.109481  1.966707  1.732722 -0.219927      1\n",
       "3  0.652532 -0.797940  0.177784 -1.161287 -1.453970      0\n",
       "4  0.760074 -0.517866 -0.480863 -2.111619 -1.539946      0"
      ]
     },
     "execution_count": 190,
     "metadata": {},
     "output_type": "execute_result"
    }
   ],
   "source": [
    "import numpy as np\n",
    "import pandas as pd\n",
    "from sklearn.datasets import make_classification\n",
    "\n",
    "train, test = make_classification(n_features=5, n_classes=2, n_samples=100, n_informative=3, random_state=42)\n",
    "df = pd.DataFrame(train)\n",
    "df['label'] = test\n",
    "print(df.shape)\n",
    "df.head()"
   ]
  },
  {
   "cell_type": "code",
   "execution_count": 191,
   "metadata": {},
   "outputs": [
    {
     "name": "stdout",
     "output_type": "stream",
     "text": [
      "+--------------------+--------------------+------------------+------------------+-------------------+-----+\n",
      "|                   0|                   1|                 2|                 3|                  4|label|\n",
      "+--------------------+--------------------+------------------+------------------+-------------------+-----+\n",
      "| -0.5166027256607268|  0.1464926805027933|0.7528659486995097|1.6035924552628822| 0.7434633835995562|    1|\n",
      "|-0.31940571768117404|  -1.106123551531058| 2.780527653332907|2.3954923577012455|-0.8505528241369291|    1|\n",
      "| -0.7108649696722994|-0.10948051769929945|1.9667072767000313| 1.732722411292773|-0.2199273564146513|    1|\n",
      "+--------------------+--------------------+------------------+------------------+-------------------+-----+\n",
      "only showing top 3 rows\n",
      "\n"
     ]
    }
   ],
   "source": [
    "pdf = spark.createDataFrame(df)\n",
    "pdf.show(3)"
   ]
  },
  {
   "cell_type": "code",
   "execution_count": 192,
   "metadata": {},
   "outputs": [],
   "source": [
    "from pyspark.ml import Pipeline\n",
    "from pyspark.ml.feature import VectorAssembler\n",
    "\n",
    "va = VectorAssembler(inputCols=[str(i) for i in range(5)], outputCol='features')\n",
    "pipeline = Pipeline(stages=[va])\n",
    "piped_data = pipeline.fit(pdf).transform(pdf)"
   ]
  },
  {
   "cell_type": "code",
   "execution_count": 193,
   "metadata": {},
   "outputs": [],
   "source": [
    "train, test = piped_data.randomSplit([0.8, 0.2])"
   ]
  },
  {
   "cell_type": "code",
   "execution_count": 194,
   "metadata": {},
   "outputs": [],
   "source": [
    "# Import LogisticRegression\n",
    "from pyspark.ml.classification import LogisticRegression\n",
    "\n",
    "# Create a LogisticRegression Estimator\n",
    "lr = LogisticRegression().setLabelCol('label').setFeaturesCol('features')"
   ]
  },
  {
   "cell_type": "code",
   "execution_count": 195,
   "metadata": {},
   "outputs": [],
   "source": [
    "# Import the evaluation submodule\n",
    "import pyspark.ml.evaluation as evals\n",
    "\n",
    "# Create a BinaryClassificationEvaluator\n",
    "evaluator = evals.BinaryClassificationEvaluator(metricName='areaUnderROC')"
   ]
  },
  {
   "cell_type": "code",
   "execution_count": 196,
   "metadata": {},
   "outputs": [],
   "source": [
    "# Import the tuning submodule\n",
    "import pyspark.ml.tuning as tune\n",
    "\n",
    "# Create the parameter grid\n",
    "grid = tune.ParamGridBuilder()\n",
    "\n",
    "# Add the hyperparameter\n",
    "# grid = grid.addGrid(lr.regParam, [0, .1])\n",
    "grid = grid.addGrid(lr.elasticNetParam, [0, 1])\n",
    "\n",
    "# Build the grid\n",
    "grid = grid.build()"
   ]
  },
  {
   "cell_type": "code",
   "execution_count": 197,
   "metadata": {},
   "outputs": [
    {
     "name": "stdout",
     "output_type": "stream",
     "text": [
      "2\n",
      "{Param(parent='LogisticRegression_21b026f13963', name='elasticNetParam', doc='the ElasticNet mixing parameter, in range [0, 1]. For alpha = 0, the penalty is an L2 penalty. For alpha = 1, it is an L1 penalty.'): 0.0}\n"
     ]
    }
   ],
   "source": [
    "print(len(grid))\n",
    "print(grid[0])"
   ]
  },
  {
   "cell_type": "code",
   "execution_count": 198,
   "metadata": {},
   "outputs": [],
   "source": [
    "# Create the CrossValidator\n",
    "cv = tune.CrossValidator(estimator=lr,\n",
    "               estimatorParamMaps=grid,\n",
    "               evaluator=evaluator\n",
    "               )"
   ]
  },
  {
   "cell_type": "code",
   "execution_count": 199,
   "metadata": {},
   "outputs": [
    {
     "name": "stderr",
     "output_type": "stream",
     "text": [
      "                                                                                \r"
     ]
    }
   ],
   "source": [
    "# Fit cross validation models\n",
    "models = cv.fit(train)\n",
    "\n",
    "# Extract the best model\n",
    "best_lr = models.bestModel"
   ]
  },
  {
   "cell_type": "code",
   "execution_count": 200,
   "metadata": {},
   "outputs": [
    {
     "data": {
      "text/plain": [
       "0.0"
      ]
     },
     "execution_count": 200,
     "metadata": {},
     "output_type": "execute_result"
    }
   ],
   "source": [
    "best_lr.getElasticNetParam()"
   ]
  },
  {
   "cell_type": "code",
   "execution_count": 201,
   "metadata": {},
   "outputs": [
    {
     "name": "stderr",
     "output_type": "stream",
     "text": [
      "                                                                                \r"
     ]
    },
    {
     "name": "stdout",
     "output_type": "stream",
     "text": [
      "0.888888888888889\n"
     ]
    }
   ],
   "source": [
    "test_results = best_lr.transform(test)\n",
    "print(evaluator.evaluate(test_results))"
   ]
  },
  {
   "cell_type": "code",
   "execution_count": 203,
   "metadata": {},
   "outputs": [
    {
     "data": {
      "text/plain": [
       "[Row(0=-2.181158974887847, 1=2.7153870623466627, 2=0.9046546571743399, 3=-0.23442493593144698, 4=0.5455859017076543, label=1, features=DenseVector([-2.1812, 2.7154, 0.9047, -0.2344, 0.5456]), rawPrediction=DenseVector([-4.148, 4.148]), probability=DenseVector([0.0156, 0.9844]), prediction=1.0),\n",
       " Row(0=-1.0991924198831942, 1=2.20378063202382, 2=-2.4402521672927477, 3=2.1657985801707715, 4=4.7009085537637745, label=1, features=DenseVector([-1.0992, 2.2038, -2.4403, 2.1658, 4.7009]), rawPrediction=DenseVector([-4.4648, 4.4648]), probability=DenseVector([0.0114, 0.9886]), prediction=1.0),\n",
       " Row(0=-0.7108649696722994, 1=-0.10948051769929945, 2=1.9667072767000313, 3=1.732722411292773, 4=-0.2199273564146513, label=1, features=DenseVector([-0.7109, -0.1095, 1.9667, 1.7327, -0.2199]), rawPrediction=DenseVector([-7.183, 7.183]), probability=DenseVector([0.0008, 0.9992]), prediction=1.0),\n",
       " Row(0=-0.6417888414630424, 1=0.6730550962253387, 2=0.019259293225993512, 3=1.3295287847414041, 4=1.3681998314396573, label=1, features=DenseVector([-0.6418, 0.6731, 0.0193, 1.3295, 1.3682]), rawPrediction=DenseVector([-4.076, 4.076]), probability=DenseVector([0.0167, 0.9833]), prediction=1.0),\n",
       " Row(0=-0.5189905858042057, 1=0.04325954538387344, 2=0.9728510184314346, 3=1.6934264158854133, 4=0.5906491852278536, label=1, features=DenseVector([-0.519, 0.0433, 0.9729, 1.6934, 0.5906]), rawPrediction=DenseVector([-5.7002, 5.7002]), probability=DenseVector([0.0033, 0.9967]), prediction=1.0)]"
      ]
     },
     "execution_count": 203,
     "metadata": {},
     "output_type": "execute_result"
    }
   ],
   "source": [
    "test_results.head(5)"
   ]
  }
 ],
 "metadata": {
  "interpreter": {
   "hash": "fea2404d68845169414e3b8dfa08b09f271da1cf8f08ee42013164db480f4f27"
  },
  "kernelspec": {
   "display_name": "Python 3.10.4 ('flitto')",
   "language": "python",
   "name": "python3"
  },
  "language_info": {
   "codemirror_mode": {
    "name": "ipython",
    "version": 3
   },
   "file_extension": ".py",
   "mimetype": "text/x-python",
   "name": "python",
   "nbconvert_exporter": "python",
   "pygments_lexer": "ipython3",
   "version": "3.10.4"
  },
  "orig_nbformat": 4
 },
 "nbformat": 4,
 "nbformat_minor": 2
}

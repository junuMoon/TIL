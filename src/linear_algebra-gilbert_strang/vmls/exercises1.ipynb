{
 "cells": [
  {
   "cell_type": "code",
   "execution_count": 1,
   "metadata": {},
   "outputs": [],
   "source": [
    "import numpy as np\n",
    "np.set_printoptions(suppress=True)\n",
    "import warnings\n",
    "warnings.filterwarnings(\"ignore\")"
   ]
  },
  {
   "cell_type": "code",
   "execution_count": 9,
   "metadata": {},
   "outputs": [],
   "source": [
    "# 1.4 \n",
    "# Periodic energy usage.\n",
    "# The 168-vector w gives the hourly electricity consumption of a manufacturing plant, \n",
    "# starting on Sunday midnight to 1AM, over one week, in MWh (megawatt-hours). \n",
    "# The consumption pattern is the same each day, i.e., it is 24-periodic, \n",
    "# which means that wt+24 = wt for t = 1,...,144. \n",
    "# Let d be the 24-vector that gives the energy consumption over one day, \n",
    "# starting at midnight.\n",
    "# \n",
    "# (a) Use vector notation to express w in terms of d.\n",
    "d = np.array(range(24))\n",
    "w = np.stack(d for _ in range(7)).flatten()\n",
    "\n",
    "# (b) Use vector notation to express d in terms of w.\n",
    "w = np.array(range(168))\n",
    "d = w[:24]"
   ]
  },
  {
   "cell_type": "code",
   "execution_count": 17,
   "metadata": {},
   "outputs": [],
   "source": [
    "#1.6\n",
    "# Vector of differences. \n",
    "# Suppose x is an n-vector. \n",
    "# The associated vector of differences is the (n−1)-vector d \n",
    "# given by d=(x2 −x1,x3 −x2,...,xn −xn−1). \n",
    "# Express d in terms of x using vector operations \n",
    "\n",
    "x = np.array(range(10))\n",
    "d = x[1:] - x[:-1]"
   ]
  },
  {
   "cell_type": "code",
   "execution_count": 18,
   "metadata": {},
   "outputs": [],
   "source": [
    "#1.7 \n",
    "# Suppose that x is a Boolean vector with entries that are 0 or 1, \n",
    "# and y is a vector encoding the same information using the values −1 and +1. \n",
    "# Express y in terms of x using vector notation. \n",
    "# Also, express x in terms of y using vector notation.\n",
    "\n",
    "x = np.array([0,1,0,1,0,1,0,1,0,1])\n",
    "y = 2*x - 1\n",
    "\n",
    "y = np.array([-1,1,-1,1,-1,1,-1,1,-1,1])\n",
    "x = (y + 1) / 2"
   ]
  },
  {
   "cell_type": "code",
   "execution_count": 46,
   "metadata": {},
   "outputs": [],
   "source": [
    "# 1.8\n",
    "# Profit and sales vectors. \n",
    "# A company sells n different products or items. \n",
    "# The n-vector p gives the profit, in dollars per unit, for each of the n items. \n",
    "# The n-vector s gives the total sales of each of the items, over some period\n",
    "# (such as a month), i.e., si is the total number of units of item i sold.\n",
    "# Express the total profit in terms of p and s using vector notation.\n",
    "\n",
    "n_item = 10\n",
    "p = np.random.randn(n_item).reshape(-1, 1)\n",
    "periods = 12\n",
    "s = np.random.randint(low=-1, high=100, size=(n_item, periods))\n",
    "total_profit = (p.T@s).sum()"
   ]
  },
  {
   "cell_type": "code",
   "execution_count": 64,
   "metadata": {},
   "outputs": [],
   "source": [
    "# 1.9\n",
    "# Symptoms vector. \n",
    "# A 20-vector s records whether each of 20 different symptoms is present \n",
    "# in a medical patient, with si = 1 meaning the patient has the symptom \n",
    "# and si = 0 meaning she does not. Express the following using vector notation.\n",
    "\n",
    "# (a) The total number of symptoms the patient has.\n",
    "n = 20\n",
    "s = np.random.randint(low=0, high=2, size=(n, 1))\n",
    "total_num_symptoms = s.sum()\n",
    "total_num_symptoms = np.ones((n,1)).T@s\n",
    "\n",
    "# (b) The patient exhibits five out of the first ten symptoms. \n"
   ]
  },
  {
   "cell_type": "code",
   "execution_count": 87,
   "metadata": {},
   "outputs": [],
   "source": [
    "# 1.10\n",
    "# Total score from course record.\n",
    "# The record for each student in a class is given as a 10- vector r,\n",
    "# where r1, . . . , r8 are the grades for the 8 homework assignments, each on a 0–10 scale,\n",
    "# r9 is the midterm exam grade on a 0–120 scale, \n",
    "# and r10 is final exam score on a 0–160 scale. \n",
    "# The student’s total course score s, on a 0–100 scale, is based 25% on the homework, \n",
    "# 35% on the midterm exam, and 40% on the final exam. \n",
    "# Express s in the form s = wT r. (That is, determine the 10-vector w.) \n",
    "# You can give the coefficients of w to 4 digits after the decimal point.\n",
    "\n",
    "r_homework_max = 10\n",
    "r_midterm_max = 120\n",
    "r_final_max = 160\n",
    "r_homework = np.random.randint(low=0, high=r_homework_max, size=(8, 1))\n",
    "r_midterm = np.random.randint(low=0, high=r_midterm_max, size=(1, 1))\n",
    "r_final = np.random.randint(low=0, high=r_final_max, size=(1, 1))\n",
    "r = np.concatenate((r_homework, r_midterm, r_final), axis=0)\n",
    "\n",
    "p_homework = 0.25\n",
    "p_midterm = 0.35\n",
    "p_final = 0.40\n",
    "w_homework = p_homework * 100 / (r_homework.shape[0] * r_homework_max)\n",
    "w_midterm = p_midterm * 100 / r_midterm_max\n",
    "w_final = p_final * 100 / r_final_max\n",
    "w = np.array([w_homework] * r_homework.shape[0] + [w_midterm] + [w_final])\n",
    "\n",
    "s = w.T@r"
   ]
  },
  {
   "cell_type": "code",
   "execution_count": 91,
   "metadata": {},
   "outputs": [],
   "source": [
    "# 1.11\n",
    "# Word count and word count histogram vectors. \n",
    "# Suppose the n-vector w is the word count vector \n",
    "# associated with a document and a dictionary of n words. \n",
    "# For simplicity we will assume that all words in the document appear in the dictionary.\n",
    "\n",
    "# (a) What is 1Tw?\n",
    "n = 300\n",
    "w = np.random.randint(low=0, high=10, size=(n, 1))\n",
    "v1 = np.ones((n,1))\n",
    "total_num_words = v1.T@w\n",
    "\n",
    "# (b) What does w282 = 0 mean?\n",
    "# word 282 does not appear in the document\n",
    "w[282] = 0\n",
    "\n",
    "# (c) Let h be the n-vector that gives the histogram of the word counts, \n",
    "# i.e., hi is the fraction of the words in the document that are word i. \n",
    "# Use vector notation to express h in terms of w. \n",
    "# (You can assume that the document contains at least one word.)\n",
    "h = w / w.sum()"
   ]
  },
  {
   "cell_type": "code",
   "execution_count": 93,
   "metadata": {},
   "outputs": [],
   "source": [
    "# 1.12\n",
    "# An international company holds cash in five currencies: \n",
    "# USD (US dollar), RMB (Chinese yuan), EUR (euro), GBP (British pound), and JPY (Japanese yen), \n",
    "# in amounts given by the 5-vector c. \n",
    "# For example, c2 gives the number of RMB held. \n",
    "# Negative entries in c represent liabilities or amounts owed. \n",
    "# Express the total (net) value of the cash in USD, using vector notation. \n",
    "# Be sure to give the size and define the entries of any vectors \n",
    "# that you introduce in your solution. Your solution can refer to currency exchange rates.\n",
    "\n",
    "n_currencies = 5\n",
    "c = np.random.randint(low=-100, high=100, size=(n_currencies, 1))\n",
    "v_rates_in_usd = np.array([1, 0.8, 1.2, 1.5, 1.7])\n",
    "net_usd = v_rates_in_usd.T@c"
   ]
  },
  {
   "cell_type": "code",
   "execution_count": 126,
   "metadata": {},
   "outputs": [],
   "source": [
    "# 1.13\n",
    "# Average age in a population. \n",
    "# Suppose the 100-vector x represents the distribution of ages\n",
    "#  in some population of people, with xi being the number of i−1 year olds, \n",
    "# for i = 1, . . . , 100. (You can assume that x ̸= 0, \n",
    "# and that there is no one in the population over age 99.) \n",
    "# Find expressions, using vector notation, for the following quantities.\n",
    "\n",
    "# (a) The total number of people in the population.\n",
    "x = np.random.randint(low=0, high=100, size=(100, 1))\n",
    "total_num_people = np.ones((100,1)).T@x\n",
    "\n",
    "# (b) The total number of people in the population age 65 and over.\n",
    "embed_v = np.concatenate([np.zeros((64, 1)), np.ones((100-64, 1))])\n",
    "total_num_people_ge_65 = embed_v.T@x\n",
    "\n",
    "# (c) The average age of the population.\n",
    "weighted_average = np.array(range(0,100)).reshape(-1, 1).T@x / total_num_people"
   ]
  },
  {
   "cell_type": "code",
   "execution_count": 192,
   "metadata": {},
   "outputs": [
    {
     "name": "stdout",
     "output_type": "stream",
     "text": [
      "209369\n",
      "[[245503.5]]\n",
      "[[False]]\n",
      "[256894, 258977, 256230, 269804, 271454, 272794, 270797, 254377, 244582]\n",
      "[False, False, False, False, False, False, False, False, False]\n"
     ]
    }
   ],
   "source": [
    "# 1.15\n",
    "# Cheapest supplier\n",
    "# You must buy n raw materials in quantities given by the n-vector q, \n",
    "# where qi is the amount of raw material i that you must buy. \n",
    "# A set of K potential suppliers offer the raw materials at prices \n",
    "# given by the n-vectors p1 , . . . , pK . \n",
    "# We will assume that all quantities and prices are positive.\n",
    "# If you must choose just one supplier, how would you do it?\n",
    "\n",
    "n_item = 100\n",
    "q = np.random.randint(low=0, high=100, size=(n_item, 1))\n",
    "p = lambda: np.random.randint(low=1, high=100, size=(n_item, 1))\n",
    "n_supplier = 10\n",
    "K = np.stack([p() for _ in range(10)], axis=1).reshape(-1, n_supplier)\n",
    "v_cost = q.T@K\n",
    "v_cost.argmin()\n",
    "\n",
    "# A (highly paid) consultant tells you that you might do better \n",
    "# (i.e., get a better total cost) by splitting your order into two, \n",
    "# by choosing two suppliers and ordering (1/2)q (i.e., half the quantities) \n",
    "# from each of the two. He argues that having a diversity of suppliers is better. \n",
    "# Is he right? If so, explain how to find the two suppliers you would use \n",
    "# to fill half the order.\n",
    "s1 = K[:, list(v_cost.argsort()[0]).index(0)].reshape(-1, 1)\n",
    "s2 = K[:, list(v_cost.argsort()[0]).index(1)].reshape(-1, 1)\n",
    "\n",
    "print(v_cost.min())\n",
    "print((q.T@s1 + q.T@s2)/ 2)\n",
    "print((q.T@s1 + q.T@s2) / 2 < v_cost.min())\n",
    "\n",
    "print([(q[:i].T@s1[:i] + q[i:].T@s2[i:])[0][0] for i in range(10, 100, 10)])\n",
    "print([(q[:i].T@s1[:i] + q[i:].T@s2[i:])[0][0] < v_cost.min() for i in range(10, 100, 10)])"
   ]
  },
  {
   "cell_type": "code",
   "execution_count": 23,
   "metadata": {},
   "outputs": [
    {
     "data": {
      "text/plain": [
       "array([[ 1.     ],\n",
       "       [ 0.     ],\n",
       "       [ 0.     ],\n",
       "       [ 0.     ],\n",
       "       [-0.     ],\n",
       "       [-1.61051]])"
      ]
     },
     "execution_count": 23,
     "metadata": {},
     "output_type": "execute_result"
    }
   ],
   "source": [
    "# 1.17\n",
    "# Linear combinations of cash flows.\n",
    "# We consider cash flow vectors over T time periods,\n",
    "# with a positive entry meaning a payment received, and negative meaning a payment made. \n",
    "# A (unit) single period loan, at time period t, is the T-vector lt that corresponds\n",
    "# to a payment received of $1 in period t and a payment made of $(1 + r) in period t + 1, \n",
    "# with all other payments zero. \n",
    "# Here r > 0 is the interest rate (over one period).\n",
    "# Let c be a $1 T − 1 period loan, starting at period 1. \n",
    "# This means that $1 is received in period 1, $(1+r)T−1 is paid in period T, \n",
    "# and all other payments (i.e., c2,...,cT−1) are zero. \n",
    "# Express c as a linear combination of single period loans.\n",
    "\n",
    "T = 5\n",
    "r = 0.1\n",
    "l = lambda t: np.array([[0]*(t) + [1] + [-(1+r)] + [0]*(T-t-1)]).reshape(-1, 1)\n",
    "c = np.stack([l(t) * (1.1)**i for i, t in enumerate(range(0, T), start=0)], axis=0)\n",
    "c.sum(axis=0)"
   ]
  },
  {
   "cell_type": "code",
   "execution_count": 372,
   "metadata": {},
   "outputs": [
    {
     "data": {
      "text/plain": [
       "True"
      ]
     },
     "execution_count": 372,
     "metadata": {},
     "output_type": "execute_result"
    }
   ],
   "source": [
    "# 1.18\n",
    "# Linear combinations of linear combinations. \n",
    "# Suppose that each of the vectors b1, . . . , bk is a linear combination \n",
    "# of the vectors a1, . . . , am,  and c is a linear combination of b1, . . . , bk. \n",
    "# Then c is a linear combination of a1,...,am. \n",
    "# Show this for the case with m = k = 2. \n",
    "# (Showing it in general is not much more difficult, \n",
    "# but the notation gets more complicated.)\n",
    "\n",
    "a = np.random.randn(2)\n",
    "b = 2 * a + 3 * a\n",
    "c = 2 * b + 3 * b\n",
    "np.allclose(c, (2 * (2 * a + 3 * a)) + 3 * (2 * a + 3 * a))"
   ]
  },
  {
   "cell_type": "code",
   "execution_count": null,
   "metadata": {},
   "outputs": [],
   "source": [
    "# 1.19\n",
    "# Auto-regressive model. \n",
    "# An auto-regressive (AR) model is used to predict zt+1 \n",
    "# from the previous M values, zt,zt−1,...,zt−M+1\n",
    "# M-vector β is the AR model coefficient vector\n",
    "\n",
    "t = 30\n",
    "M = 10\n",
    "\n",
    "# (a) β := e1\n",
    "# yesterday\n",
    "\n",
    "# (b) β := 2e1 - e2\n",
    "# 2 * yesterday - two days ago\n",
    "\n",
    "# (c) β := e6\n",
    "# 6 days ago\n",
    "\n",
    "# (d) β := 0.5e1 + 0.5e2\n",
    "# 0.5 * yesterday + 0.5 * two days ago"
   ]
  },
  {
   "cell_type": "code",
   "execution_count": 25,
   "metadata": {},
   "outputs": [],
   "source": [
    "# 1.20\n",
    "# How many bytes does it take to store 100 vectors of length 10^5?\n",
    "# How many flops it take to form a linear combination of them?\n",
    "# About how long would this take on a computer capable of carrying out 1 Gflop/s?\n",
    "\n",
    "a = 8 * 10**2 * 10**5\n",
    "flops = 100 * 10**5 + 99 * 10**5 \n",
    "Gflops = 10 ** 6\n",
    "how_long_would_this_take = a / Gflops"
   ]
  }
 ],
 "metadata": {
  "kernelspec": {
   "display_name": "Python 3.8.13 ('tf-gpu')",
   "language": "python",
   "name": "python3"
  },
  "language_info": {
   "codemirror_mode": {
    "name": "ipython",
    "version": 3
   },
   "file_extension": ".py",
   "mimetype": "text/x-python",
   "name": "python",
   "nbconvert_exporter": "python",
   "pygments_lexer": "ipython3",
   "version": "3.8.13"
  },
  "orig_nbformat": 4,
  "vscode": {
   "interpreter": {
    "hash": "53c7c84db5d498deb44b31453516709cfa62c81fceb021a2659c3da0ee0e8550"
   }
  }
 },
 "nbformat": 4,
 "nbformat_minor": 2
}
